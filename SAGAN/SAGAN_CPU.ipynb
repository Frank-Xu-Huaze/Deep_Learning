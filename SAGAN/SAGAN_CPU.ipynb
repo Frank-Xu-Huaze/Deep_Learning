{
 "cells": [
  {
   "cell_type": "code",
   "execution_count": 48,
   "metadata": {},
   "outputs": [],
   "source": [
    "import os\n",
    "import time\n",
    "import datetime\n",
    "import torch\n",
    "import torch.nn as nn\n",
    "import torchvision.datasets as dsets\n",
    "from torchvision import transforms\n",
    "from torch.autograd import Variable\n",
    "from torchvision.utils import save_image\n",
    "from model import Generator, Discriminator\n",
    "import matplotlib.pyplot as plt"
   ]
  },
  {
   "cell_type": "code",
   "execution_count": 49,
   "metadata": {},
   "outputs": [],
   "source": [
    "def tensor2var(x, grad=False):\n",
    "    if torch.cuda.is_available():\n",
    "        x = x.cuda()\n",
    "    return Variable(x, requires_grad=grad)\n",
    "\n",
    "def var2tensor(x):\n",
    "    return x.data.cpu()\n",
    "\n",
    "def var2numpy(x):\n",
    "    return x.data.cpu().numpy()\n",
    "\n",
    "def denorm(x):\n",
    "    out = (x + 1) / 2\n",
    "    return out.clamp_(0, 1)"
   ]
  },
  {
   "cell_type": "code",
   "execution_count": 50,
   "metadata": {},
   "outputs": [],
   "source": [
    "batch_size = 64\n",
    "imsize = 32\n",
    "g_conv_dim = 64\n",
    "d_conv_dim = 64\n",
    "z_dim = 100\n",
    "beta1 = 0.0\n",
    "beta2 = 0.9\n",
    "total_step = 1000000\n",
    "\n",
    "options = []\n",
    "options.append(transforms.CenterCrop(160))\n",
    "options.append(transforms.Resize((imsize,imsize)))\n",
    "options.append(transforms.ToTensor())\n",
    "options.append(transforms.Normalize((0.5, 0.5, 0.5), (0.5, 0.5, 0.5)))\n",
    "dataset = dsets.ImageFolder(os.getcwd(), transform=transforms.Compose(options))\n",
    "loader = torch.utils.data.DataLoader(dataset=dataset, batch_size=batch_size,shuffle=True,\n",
    "                                     num_workers=2,drop_last=True)"
   ]
  },
  {
   "cell_type": "code",
   "execution_count": 14,
   "metadata": {},
   "outputs": [],
   "source": [
    "def train():\n",
    "    # Initialize model\n",
    "    G = Generator(batch_size, imsize, z_dim, g_conv_dim)\n",
    "    D = Discriminator(batch_size, imsize, d_conv_dim)\n",
    "    \n",
    "    # Initialize optimizer with filter, lr and coefficients\n",
    "    g_optimizer = torch.optim.Adam(filter(lambda p: p.requires_grad, G.parameters()), 0.0001, [beta1, beta2])\n",
    "    d_optimizer = torch.optim.Adam(filter(lambda p: p.requires_grad, D.parameters()), 0.0004, [beta1, beta2])\n",
    "    data_iter = iter(loader)\n",
    "    step_per_epoch = len(loader)\n",
    "    start_time = time.time()\n",
    "    \n",
    "    # Fix a random latent input for Generator\n",
    "    fixed_z = tensor2var(torch.randn(batch_size, z_dim))\n",
    "    \n",
    "    # Training, total_step as the number of total batches trained \n",
    "    for step in range(total_step):\n",
    "        # ================== Train D ================== #\n",
    "        D.train();G.train()\n",
    "        try:\n",
    "            real_images, _ = next(data_iter)\n",
    "        except:\n",
    "            data_iter = iter(loader)\n",
    "            real_images, _ = next(data_iter)\n",
    "        \n",
    "        # Compute loss with real images\n",
    "        # dr1, dr2, df1, df2, gf1, gf2 are attention scores\n",
    "        d_out_real,dr1,dr2 = D(real_images)\n",
    "        d_loss_real = - torch.mean(d_out_real)\n",
    "        \n",
    "        # apply Gumbel Softmax\n",
    "        z = tensor2var(torch.randn(real_images.size(0), z_dim))\n",
    "        fake_images,gf1,gf2 = G(z)\n",
    "        d_out_fake,df1,df2 = D(fake_images)\n",
    "        d_loss_fake = d_out_fake.mean()\n",
    "        \n",
    "        # Backward + Optimize\n",
    "        d_loss = d_loss_real + d_loss_fake\n",
    "        d_optimizer.zero_grad(); g_optimizer.zero_grad()\n",
    "        d_loss.backward()\n",
    "        d_optimizer.step()\n",
    "        \n",
    "        # Compute gradient penalty\n",
    "        alpha = torch.rand(real_images.size(0), 1, 1, 1).expand_as(real_images)\n",
    "        interpolated = Variable(alpha * real_images.data + (1 - alpha) * fake_images.data, requires_grad=True)\n",
    "        out,_,_ = D(interpolated)\n",
    "\n",
    "        grad = torch.autograd.grad(outputs=out,\n",
    "                                    inputs=interpolated,\n",
    "                                    grad_outputs=torch.ones(out.size()),\n",
    "                                    retain_graph=True,\n",
    "                                    create_graph=True,\n",
    "                                    only_inputs=True)[0]\n",
    "\n",
    "        grad = grad.view(grad.size(0), -1)\n",
    "        grad_l2norm = torch.sqrt(torch.sum(grad ** 2, dim=1))\n",
    "        d_loss_gp = torch.mean((grad_l2norm - 1) ** 2)\n",
    "\n",
    "        # Backward + Optimize\n",
    "        d_loss = 10 * d_loss_gp\n",
    "        d_optimizer.zero_grad(); g_optimizer.zero_grad()\n",
    "        d_loss.backward()\n",
    "        d_optimizer.step()\n",
    "        \n",
    "        # ================== Train G and gumbel ================== #\n",
    "        # Create random noise\n",
    "        z = tensor2var(torch.randn(real_images.size(0), z_dim))\n",
    "        fake_images,_,_ = G(z)\n",
    "\n",
    "        # Compute loss with fake images\n",
    "        g_out_fake,_,_ = D(fake_images)  # batch x n\n",
    "        g_loss_fake = - g_out_fake.mean()\n",
    "        d_optimizer.zero_grad(); g_optimizer.zero_grad()\n",
    "        g_loss_fake.backward()\n",
    "        g_optimizer.step()\n",
    "\n",
    "\n",
    "        # Print out log info\n",
    "        if (step + 1) % 10 == 0:\n",
    "            elapsed = time.time() - start_time\n",
    "            elapsed = str(datetime.timedelta(seconds=elapsed))\n",
    "            print(\"Elapsed [{}], G_step [{}/{}], D_step[{}/{}], d_out_real: {:.4f}, \"\n",
    "                  \" ave_gamma_l3: {:.4f}, ave_gamma_l4: {:.4f}\".\n",
    "                  format(elapsed, step + 1, total_step, (step + 1),\n",
    "                         total_step , d_loss_real.item(),\n",
    "                         G.attn1.gamma.mean().item(), G.attn2.gamma.mean().item()))\n",
    "\n",
    "        # Sample images\n",
    "        if (step + 1) % 100 == 0:\n",
    "            fake_images,_,_= G(fixed_z)\n",
    "            save_image(denorm(fake_images.data),\n",
    "                        os.path.join('./samples', '{}_fake.png'.format(step + 1)))\n",
    "        \n",
    "        # Save models\n",
    "        if (step+1) % 100==0:\n",
    "            torch.save(G.state_dict(),\n",
    "                        os.path.join('./models', '{}_G.pth'.format(step + 1)))\n",
    "            torch.save(D.state_dict(),\n",
    "                        os.path.join('./models', '{}_D.pth'.format(step + 1)))"
   ]
  },
  {
   "cell_type": "markdown",
   "metadata": {},
   "source": [
    "### Test"
   ]
  },
  {
   "cell_type": "code",
   "execution_count": 51,
   "metadata": {},
   "outputs": [],
   "source": [
    "# Initialize model\n",
    "G = Generator(batch_size, imsize, z_dim, g_conv_dim)\n",
    "D = Discriminator(batch_size, imsize, d_conv_dim)\n",
    "    \n",
    "# Initialize optimizer with filter, lr and coefficients\n",
    "g_optimizer = torch.optim.Adam(filter(lambda p: p.requires_grad, G.parameters()), 0.0001, [beta1, beta2])\n",
    "d_optimizer = torch.optim.Adam(filter(lambda p: p.requires_grad, D.parameters()), 0.0004, [beta1, beta2])\n",
    "data_iter = iter(loader)\n",
    "step_per_epoch = len(loader)\n",
    "start_time = time.time()\n",
    "    \n",
    "# Fix a random latent input for Generator\n",
    "fixed_z = tensor2var(torch.randn(batch_size, z_dim))\n",
    "\n",
    "D.train();G.train()\n",
    "real_images, _ = next(data_iter)"
   ]
  },
  {
   "cell_type": "code",
   "execution_count": 52,
   "metadata": {},
   "outputs": [],
   "source": [
    "d_out_real,dr1,dr2 = D(real_images)"
   ]
  },
  {
   "cell_type": "code",
   "execution_count": 26,
   "metadata": {},
   "outputs": [],
   "source": [
    "d_loss_real = - torch.mean(d_out_real)"
   ]
  },
  {
   "cell_type": "code",
   "execution_count": 27,
   "metadata": {},
   "outputs": [
    {
     "data": {
      "text/plain": [
       "torch.Size([64, 100])"
      ]
     },
     "execution_count": 27,
     "metadata": {},
     "output_type": "execute_result"
    }
   ],
   "source": [
    "z = tensor2var(torch.randn(real_images.size(0), z_dim))\n",
    "z.shape"
   ]
  },
  {
   "cell_type": "code",
   "execution_count": 32,
   "metadata": {},
   "outputs": [
    {
     "data": {
      "text/plain": [
       "tensor(-0.0237, grad_fn=<AddBackward0>)"
      ]
     },
     "execution_count": 32,
     "metadata": {},
     "output_type": "execute_result"
    }
   ],
   "source": [
    "fake_images,gf1,gf2 = G(z)\n",
    "d_out_fake,df1,df2 = D(fake_images)\n",
    "d_loss_fake = d_out_fake.mean()\n",
    "d_loss = d_loss_real + d_loss_fake\n",
    "d_loss"
   ]
  },
  {
   "cell_type": "code",
   "execution_count": 33,
   "metadata": {},
   "outputs": [
    {
     "data": {
      "text/plain": [
       "tensor(-0.0237, grad_fn=<AddBackward0>)"
      ]
     },
     "execution_count": 33,
     "metadata": {},
     "output_type": "execute_result"
    }
   ],
   "source": [
    "d_loss.backward()\n",
    "d_loss"
   ]
  },
  {
   "cell_type": "code",
   "execution_count": 34,
   "metadata": {},
   "outputs": [
    {
     "data": {
      "text/plain": [
       "Adam (\n",
       "Parameter Group 0\n",
       "    amsgrad: False\n",
       "    betas: [0.0, 0.9]\n",
       "    eps: 1e-08\n",
       "    lr: 0.0004\n",
       "    weight_decay: 0\n",
       ")"
      ]
     },
     "execution_count": 34,
     "metadata": {},
     "output_type": "execute_result"
    }
   ],
   "source": [
    "d_optimizer.step()\n",
    "d_optimizer"
   ]
  },
  {
   "cell_type": "code",
   "execution_count": 35,
   "metadata": {},
   "outputs": [],
   "source": [
    "alpha = torch.rand(real_images.size(0), 1, 1, 1).expand_as(real_images)\n",
    "interpolated = Variable(alpha * real_images.data + (1 - alpha) * fake_images.data, requires_grad=True)\n",
    "out,_,_ = D(interpolated)"
   ]
  },
  {
   "cell_type": "code",
   "execution_count": 38,
   "metadata": {},
   "outputs": [
    {
     "data": {
      "text/plain": [
       "torch.Size([64, 3, 32, 32])"
      ]
     },
     "execution_count": 38,
     "metadata": {},
     "output_type": "execute_result"
    }
   ],
   "source": [
    "grad = torch.autograd.grad(outputs=out,\n",
    "                                    inputs=interpolated,\n",
    "                                    grad_outputs=torch.ones(out.size()),\n",
    "                                    retain_graph=True,\n",
    "                                    create_graph=True,\n",
    "                                    only_inputs=True)[0]\n",
    "grad.shape"
   ]
  },
  {
   "cell_type": "code",
   "execution_count": null,
   "metadata": {},
   "outputs": [],
   "source": [
    "# Training, total_step as the number of total batches trained \n",
    "for step in range(total_step):\n",
    "    # ================== Train D ================== #\n",
    "    D.train();G.train()\n",
    "    \n",
    "    # Get a new batch of data\n",
    "    try:\n",
    "        real_images, _ = next(data_iter)\n",
    "    except:\n",
    "        data_iter = iter(loader)\n",
    "        real_images, _ = next(data_iter)\n",
    "        \n",
    "    # Compute loss with real images\n",
    "    # dr1, dr2, df1, df2, gf1, gf2 are attention scores\n",
    "    d_out_real,dr1,dr2 = D(real_images)\n",
    "    d_loss_real = - torch.mean(d_out_real)\n",
    "        \n",
    "    # apply Gumbel Softmax\n",
    "    z = tensor2var(torch.randn(real_images.size(0), z_dim))\n",
    "    fake_images,gf1,gf2 = G(z)\n",
    "    d_out_fake,df1,df2 = D(fake_images)\n",
    "    d_loss_fake = d_out_fake.mean()\n",
    "        \n",
    "    # Backward + Optimize\n",
    "    d_loss = d_loss_real + d_loss_fake\n",
    "    d_optimizer.zero_grad(); g_optimizer.zero_grad()\n",
    "    d_loss.backward()\n",
    "    d_optimizer.step()\n",
    "        \n",
    "    # Compute gradient penalty\n",
    "    alpha = torch.rand(real_images.size(0), 1, 1, 1).expand_as(real_images)\n",
    "    interpolated = Variable(alpha * real_images.data + (1 - alpha) * fake_images.data, requires_grad=True)\n",
    "    out,_,_ = D(interpolated)\n",
    "\n",
    "    grad = torch.autograd.grad(outputs=out,\n",
    "                                    inputs=interpolated,\n",
    "                                    grad_outputs=torch.ones(out.size()),\n",
    "                                    retain_graph=True,\n",
    "                                    create_graph=True,\n",
    "                                    only_inputs=True)[0]\n",
    "\n",
    "    grad = grad.view(grad.size(0), -1)\n",
    "    grad_l2norm = torch.sqrt(torch.sum(grad ** 2, dim=1))\n",
    "    d_loss_gp = torch.mean((grad_l2norm - 1) ** 2)\n",
    "\n",
    "    # Backward + Optimize\n",
    "    d_loss = 10 * d_loss_gp\n",
    "    d_optimizer.zero_grad(); g_optimizer.zero_grad()\n",
    "    d_loss.backward()\n",
    "    d_optimizer.step()\n",
    "        \n",
    "    # ================== Train G and gumbel ================== #\n",
    "    # Create random noise\n",
    "    z = tensor2var(torch.randn(real_images.size(0), z_dim))\n",
    "    fake_images,_,_ = G(z)\n",
    "\n",
    "    # Compute loss with fake images\n",
    "    g_out_fake,_,_ = D(fake_images)  # batch x n\n",
    "    g_loss_fake = - g_out_fake.mean()\n",
    "    d_optimizer.zero_grad(); g_optimizer.zero_grad()\n",
    "    g_loss_fake.backward()\n",
    "    g_optimizer.step()"
   ]
  }
 ],
 "metadata": {
  "kernelspec": {
   "display_name": "Python 3",
   "language": "python",
   "name": "python3"
  },
  "language_info": {
   "codemirror_mode": {
    "name": "ipython",
    "version": 3
   },
   "file_extension": ".py",
   "mimetype": "text/x-python",
   "name": "python",
   "nbconvert_exporter": "python",
   "pygments_lexer": "ipython3",
   "version": "3.7.3"
  }
 },
 "nbformat": 4,
 "nbformat_minor": 4
}
